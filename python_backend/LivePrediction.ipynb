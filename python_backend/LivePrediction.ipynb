{
 "cells": [
  {
   "cell_type": "code",
   "execution_count": 14,
   "metadata": {},
   "outputs": [],
   "source": [
    "import pandas as pd\n",
    "import numpy as np\n",
    "from scrapper import Scrapper"
   ]
  },
  {
   "cell_type": "code",
   "execution_count": 16,
   "metadata": {},
   "outputs": [
    {
     "data": {
      "text/plain": [
       "['Reliance Industries Limited (RIL) increases Polyvinyl Chloride (PVC) prices in the domestic markets of India',\n",
       " 'Buy CAMS; target of Rs 2700: Motilal Oswal',\n",
       " 'Buy Zomato; target of Rs 110: Motilal Oswal',\n",
       " 'Buy Fusion Microfinance; target of Rs 740: Motilal Oswal',\n",
       " 'Buy MAS Financial Services; target of Rs 900: Motilal Oswal',\n",
       " 'Buy Indostar Capital Finance; target of Rs 195: Motilal Oswal',\n",
       " 'Buy Sun Pharma; target of Rs 1310: Motilal Oswal',\n",
       " 'Buy Varun Beverages; target of Rs 940: Motilal Oswal',\n",
       " 'Buy Hindalco; target of Rs 550: Motilal Oswal',\n",
       " 'Buy Gujarat Gas; target of Rs 550: Motilal Oswal',\n",
       " 'Buy Dabur; target of Rs 660: Motilal Oswal',\n",
       " 'Neutral Eicher Motors; target of Rs 3600: Motilal Oswal',\n",
       " 'Neutral Clean Science and Technology; target of Rs 1260: Motilal Oswal',\n",
       " 'Neutral Quess Corp; target of Rs 440: Motilal Oswal',\n",
       " 'Neutral Ambuja Cements; target of Rs 450: Motilal Oswal',\n",
       " \"India's Reliance expects to soon list shares of its financial unit\",\n",
       " 'Reliance Retail positioned for industry leadership with impressive growth: Annual report',\n",
       " 'Reliance Retail boosts sustainability focus with EV fleet',\n",
       " 'Buy Metro Brands; target of Rs 1200: Motilal Oswal',\n",
       " 'Buy Sapphire Foods; target of Rs 1585: Motilal Oswal',\n",
       " 'Buy Blue Dart Express; target of Rs 7840: Motilal Oswal',\n",
       " 'Buy Titan Company; target of Rs 3325: Motilal Oswal',\n",
       " 'Buy Aditya Birla Capital; target of Rs 220: Motilal Oswal',\n",
       " 'Buy Godrej Properties; target of Rs 1915: Motilal Oswal',\n",
       " 'Buy Cholamandalam Inv. and Finance; target of Rs 1350: Motilal Oswal',\n",
       " 'Neutral InterGlobe Aviation; target of Rs 2630: Motilal Oswal',\n",
       " 'Neutral HPCL; target of Rs 265: Motilal Oswal',\n",
       " 'Buy InterGlobe Aviation; target of Rs 3000: Emkay Global Financial',\n",
       " 'Buy Cholamandalam Investment; target of Rs 1215: Emkay Global Financial',\n",
       " 'Buy AB Capital; target of Rs 225: Emkay Global Financial',\n",
       " 'Hold Ambuja Cements; target of Rs 480: Emkay Global Financial',\n",
       " 'Hold HPCL; target of Rs 270: Emkay Global Financial',\n",
       " 'Hold Sapphire Foods; target of Rs 1400: Emkay Global Financial',\n",
       " 'Hold Titan Company; target of Rs 3000: Emkay Global Financial',\n",
       " 'Hold Strides Pharma Sciences; target of Rs 491: Sharekhan',\n",
       " 'Hold Sumitomo Chemical India; target of Rs 430: Sharekhan',\n",
       " 'Buy Gateway Distriparks; target of Rs 90: Sharekhan',\n",
       " 'Buy Triveni Turbine; target of Rs 455: Sharekhan',\n",
       " 'Buy Exide Industries; target of Rs 301: Sharekhan',\n",
       " 'Buy Thermax; target of Rs 2950: Sharekhan',\n",
       " 'Buy Hindustan Petroleum Corporation; target of Rs 320: Sharekhan',\n",
       " 'Buy Cholamandalam Investment and Finance Company; target of Rs 1350: Sharekhan',\n",
       " 'Buy Titan Company; target of Rs 3350: Sharekhan',\n",
       " 'Hold Hindustan Petroleum Corporation; target of Rs 264: Prabhudas Lilladher',\n",
       " 'Hold Thermax; target of Rs 2613: Prabhudas Lilladher',\n",
       " 'Accumulate Dabur India; target of Rs 600: Prabhudas Lilladher',\n",
       " 'Accumulate Titan Company; target of Rs 3240: Prabhudas Lilladher',\n",
       " 'Accumulate Triveni Turbine; target of Rs 419: Prabhudas Lilladher',\n",
       " 'Buy InterGlobe Aviation; target of Rs 2855: Prabhudas Lilladher',\n",
       " \"VIP Industries: Downgrades and price cuts derail luggage maker's track\",\n",
       " 'Market extends losses, but these 85 small-caps give double-digit returns',\n",
       " 'As bulls reign on D-Street, equity strategist warns investors to exercise caution in these sectors',\n",
       " 'Tyre maker off the road: MRF may face margin woes',\n",
       " 'Lupin could exceed 18% margin guidance in this financial year: Management',\n",
       " 'Nuvama says NHAI awarding picks up: What should you do with road stocks?',\n",
       " 'Options Open Interest, a handy indicator for intraday options trading: Shubham Agarwal',\n",
       " \"India's Reliance Industries to hold AGM on Aug. 28\",\n",
       " 'Auto File: Margins Or Volume?',\n",
       " 'Reliance Industries to hold AGM on August 28',\n",
       " \"India's Welspun Corp Q1 profit rises on higher demand for line pipes\"]"
      ]
     },
     "execution_count": 16,
     "metadata": {},
     "output_type": "execute_result"
    }
   ],
   "source": [
    "\n",
    "url = 'https://in.tradingview.com/markets/stocks-india/news/'\n",
    "\n",
    "scrapper = Scrapper(url)\n",
    "titles = scrapper.get_all_article_titles()\n",
    "titles_array = np.array(titles)\n",
    "# titles_array.shape\n",
    "titles"
   ]
  },
  {
   "cell_type": "code",
   "execution_count": 17,
   "metadata": {},
   "outputs": [],
   "source": [
    "import spacy\n",
    "from spacy import displacy"
   ]
  },
  {
   "cell_type": "code",
   "execution_count": 18,
   "metadata": {},
   "outputs": [
    {
     "ename": "NameError",
     "evalue": "name 'nlp' is not defined",
     "output_type": "error",
     "traceback": [
      "\u001b[1;31m---------------------------------------------------------------------------\u001b[0m",
      "\u001b[1;31mNameError\u001b[0m                                 Traceback (most recent call last)",
      "\u001b[1;32md:\\Crush\\Live-Stock-Sentiment-Analysis\\python_backend\\LivePrediction.ipynb Cell 4\u001b[0m in \u001b[0;36m<cell line: 4>\u001b[1;34m()\u001b[0m\n\u001b[0;32m      <a href='vscode-notebook-cell:/d%3A/Crush/Live-Stock-Sentiment-Analysis/python_backend/LivePrediction.ipynb#W3sZmlsZQ%3D%3D?line=2'>3</a>\u001b[0m processed_titles \u001b[39m=\u001b[39m []\n\u001b[0;32m      <a href='vscode-notebook-cell:/d%3A/Crush/Live-Stock-Sentiment-Analysis/python_backend/LivePrediction.ipynb#W3sZmlsZQ%3D%3D?line=3'>4</a>\u001b[0m \u001b[39mfor\u001b[39;00m title \u001b[39min\u001b[39;00m titles:\n\u001b[1;32m----> <a href='vscode-notebook-cell:/d%3A/Crush/Live-Stock-Sentiment-Analysis/python_backend/LivePrediction.ipynb#W3sZmlsZQ%3D%3D?line=4'>5</a>\u001b[0m     doc \u001b[39m=\u001b[39m nlp(title)\n\u001b[0;32m      <a href='vscode-notebook-cell:/d%3A/Crush/Live-Stock-Sentiment-Analysis/python_backend/LivePrediction.ipynb#W3sZmlsZQ%3D%3D?line=5'>6</a>\u001b[0m     processed_title \u001b[39m=\u001b[39m []\n\u001b[0;32m      <a href='vscode-notebook-cell:/d%3A/Crush/Live-Stock-Sentiment-Analysis/python_backend/LivePrediction.ipynb#W3sZmlsZQ%3D%3D?line=6'>7</a>\u001b[0m     \u001b[39mfor\u001b[39;00m token \u001b[39min\u001b[39;00m doc:\n",
      "\u001b[1;31mNameError\u001b[0m: name 'nlp' is not defined"
     ]
    }
   ],
   "source": [
    "import spacy\n",
    "\n",
    "processed_titles = []\n",
    "for title in titles:\n",
    "    doc = nlp(title)\n",
    "    processed_title = []\n",
    "    for token in doc:\n",
    "        if token.is_stop or token.is_punct:\n",
    "            continue\n",
    "        processed_title.append(token.lemma_.lower())\n",
    "    processed_titles.append(processed_title)\n",
    "processed_titles = np.array(processed_titles)\n",
    "print(type(processed_titles))\n",
    "processed_titles[:3]"
   ]
  },
  {
   "cell_type": "code",
   "execution_count": 19,
   "metadata": {},
   "outputs": [
    {
     "data": {
      "text/html": [
       "<div>\n",
       "<style scoped>\n",
       "    .dataframe tbody tr th:only-of-type {\n",
       "        vertical-align: middle;\n",
       "    }\n",
       "\n",
       "    .dataframe tbody tr th {\n",
       "        vertical-align: top;\n",
       "    }\n",
       "\n",
       "    .dataframe thead th {\n",
       "        text-align: right;\n",
       "    }\n",
       "</style>\n",
       "<table border=\"1\" class=\"dataframe\">\n",
       "  <thead>\n",
       "    <tr style=\"text-align: right;\">\n",
       "      <th></th>\n",
       "      <th>Header</th>\n",
       "    </tr>\n",
       "  </thead>\n",
       "  <tbody>\n",
       "    <tr>\n",
       "      <th>0</th>\n",
       "      <td>Reliance Industries Limited (RIL) increases Po...</td>\n",
       "    </tr>\n",
       "    <tr>\n",
       "      <th>1</th>\n",
       "      <td>Buy CAMS; target of Rs 2700: Motilal Oswal</td>\n",
       "    </tr>\n",
       "    <tr>\n",
       "      <th>2</th>\n",
       "      <td>Buy Zomato; target of Rs 110: Motilal Oswal</td>\n",
       "    </tr>\n",
       "    <tr>\n",
       "      <th>3</th>\n",
       "      <td>Buy Fusion Microfinance; target of Rs 740: Mot...</td>\n",
       "    </tr>\n",
       "    <tr>\n",
       "      <th>4</th>\n",
       "      <td>Buy MAS Financial Services; target of Rs 900: ...</td>\n",
       "    </tr>\n",
       "  </tbody>\n",
       "</table>\n",
       "</div>"
      ],
      "text/plain": [
       "                                              Header\n",
       "0  Reliance Industries Limited (RIL) increases Po...\n",
       "1         Buy CAMS; target of Rs 2700: Motilal Oswal\n",
       "2        Buy Zomato; target of Rs 110: Motilal Oswal\n",
       "3  Buy Fusion Microfinance; target of Rs 740: Mot...\n",
       "4  Buy MAS Financial Services; target of Rs 900: ..."
      ]
     },
     "execution_count": 19,
     "metadata": {},
     "output_type": "execute_result"
    }
   ],
   "source": [
    "df = pd.DataFrame(processed_titles)\n",
    "df['Header'] = titles\n",
    "df.head()"
   ]
  },
  {
   "cell_type": "code",
   "execution_count": 10,
   "metadata": {},
   "outputs": [
    {
     "data": {
      "text/html": [
       "<div>\n",
       "<style scoped>\n",
       "    .dataframe tbody tr th:only-of-type {\n",
       "        vertical-align: middle;\n",
       "    }\n",
       "\n",
       "    .dataframe tbody tr th {\n",
       "        vertical-align: top;\n",
       "    }\n",
       "\n",
       "    .dataframe thead th {\n",
       "        text-align: right;\n",
       "    }\n",
       "</style>\n",
       "<table border=\"1\" class=\"dataframe\">\n",
       "  <thead>\n",
       "    <tr style=\"text-align: right;\">\n",
       "      <th></th>\n",
       "      <th>Header</th>\n",
       "    </tr>\n",
       "  </thead>\n",
       "  <tbody>\n",
       "    <tr>\n",
       "      <th>0</th>\n",
       "      <td>Reliance Industries Limited (RIL) increases Po...</td>\n",
       "    </tr>\n",
       "    <tr>\n",
       "      <th>1</th>\n",
       "      <td>Buy CAMS; target of Rs 2700: Motilal Oswal</td>\n",
       "    </tr>\n",
       "    <tr>\n",
       "      <th>2</th>\n",
       "      <td>Buy Zomato; target of Rs 110: Motilal Oswal</td>\n",
       "    </tr>\n",
       "    <tr>\n",
       "      <th>3</th>\n",
       "      <td>Buy Fusion Microfinance; target of Rs 740: Mot...</td>\n",
       "    </tr>\n",
       "    <tr>\n",
       "      <th>4</th>\n",
       "      <td>Buy MAS Financial Services; target of Rs 900: ...</td>\n",
       "    </tr>\n",
       "  </tbody>\n",
       "</table>\n",
       "</div>"
      ],
      "text/plain": [
       "                                              Header\n",
       "0  Reliance Industries Limited (RIL) increases Po...\n",
       "1         Buy CAMS; target of Rs 2700: Motilal Oswal\n",
       "2        Buy Zomato; target of Rs 110: Motilal Oswal\n",
       "3  Buy Fusion Microfinance; target of Rs 740: Mot...\n",
       "4  Buy MAS Financial Services; target of Rs 900: ..."
      ]
     },
     "execution_count": 10,
     "metadata": {},
     "output_type": "execute_result"
    }
   ],
   "source": [
    "df.rename(columns={0: 'Text'}, inplace=True)\n",
    "df.head() "
   ]
  },
  {
   "cell_type": "code",
   "execution_count": 11,
   "metadata": {},
   "outputs": [],
   "source": [
    "def list_to_string(lst):\n",
    "    return ' '.join(map(str, lst))"
   ]
  },
  {
   "cell_type": "code",
   "execution_count": 12,
   "metadata": {},
   "outputs": [
    {
     "ename": "KeyError",
     "evalue": "'Text'",
     "output_type": "error",
     "traceback": [
      "\u001b[1;31m---------------------------------------------------------------------------\u001b[0m",
      "\u001b[1;31mKeyError\u001b[0m                                  Traceback (most recent call last)",
      "File \u001b[1;32m~\\AppData\\Roaming\\Python\\Python310\\site-packages\\pandas\\core\\indexes\\base.py:3653\u001b[0m, in \u001b[0;36mIndex.get_loc\u001b[1;34m(self, key)\u001b[0m\n\u001b[0;32m   3652\u001b[0m \u001b[39mtry\u001b[39;00m:\n\u001b[1;32m-> 3653\u001b[0m     \u001b[39mreturn\u001b[39;00m \u001b[39mself\u001b[39;49m\u001b[39m.\u001b[39;49m_engine\u001b[39m.\u001b[39;49mget_loc(casted_key)\n\u001b[0;32m   3654\u001b[0m \u001b[39mexcept\u001b[39;00m \u001b[39mKeyError\u001b[39;00m \u001b[39mas\u001b[39;00m err:\n",
      "File \u001b[1;32m~\\AppData\\Roaming\\Python\\Python310\\site-packages\\pandas\\_libs\\index.pyx:147\u001b[0m, in \u001b[0;36mpandas._libs.index.IndexEngine.get_loc\u001b[1;34m()\u001b[0m\n",
      "File \u001b[1;32m~\\AppData\\Roaming\\Python\\Python310\\site-packages\\pandas\\_libs\\index.pyx:176\u001b[0m, in \u001b[0;36mpandas._libs.index.IndexEngine.get_loc\u001b[1;34m()\u001b[0m\n",
      "File \u001b[1;32mpandas\\_libs\\hashtable_class_helper.pxi:7080\u001b[0m, in \u001b[0;36mpandas._libs.hashtable.PyObjectHashTable.get_item\u001b[1;34m()\u001b[0m\n",
      "File \u001b[1;32mpandas\\_libs\\hashtable_class_helper.pxi:7088\u001b[0m, in \u001b[0;36mpandas._libs.hashtable.PyObjectHashTable.get_item\u001b[1;34m()\u001b[0m\n",
      "\u001b[1;31mKeyError\u001b[0m: 'Text'",
      "\nThe above exception was the direct cause of the following exception:\n",
      "\u001b[1;31mKeyError\u001b[0m                                  Traceback (most recent call last)",
      "\u001b[1;32md:\\Crush\\Live-Stock-Sentiment-Analysis\\python_backend\\LivePrediction.ipynb Cell 8\u001b[0m in \u001b[0;36m<cell line: 1>\u001b[1;34m()\u001b[0m\n\u001b[1;32m----> <a href='vscode-notebook-cell:/d%3A/Crush/Live-Stock-Sentiment-Analysis/python_backend/LivePrediction.ipynb#X10sZmlsZQ%3D%3D?line=0'>1</a>\u001b[0m df[\u001b[39m'\u001b[39m\u001b[39mText\u001b[39m\u001b[39m'\u001b[39m] \u001b[39m=\u001b[39m df[\u001b[39m'\u001b[39;49m\u001b[39mText\u001b[39;49m\u001b[39m'\u001b[39;49m]\u001b[39m.\u001b[39mapply(list_to_string)\n\u001b[0;32m      <a href='vscode-notebook-cell:/d%3A/Crush/Live-Stock-Sentiment-Analysis/python_backend/LivePrediction.ipynb#X10sZmlsZQ%3D%3D?line=1'>2</a>\u001b[0m df\n",
      "File \u001b[1;32m~\\AppData\\Roaming\\Python\\Python310\\site-packages\\pandas\\core\\frame.py:3761\u001b[0m, in \u001b[0;36mDataFrame.__getitem__\u001b[1;34m(self, key)\u001b[0m\n\u001b[0;32m   3759\u001b[0m \u001b[39mif\u001b[39;00m \u001b[39mself\u001b[39m\u001b[39m.\u001b[39mcolumns\u001b[39m.\u001b[39mnlevels \u001b[39m>\u001b[39m \u001b[39m1\u001b[39m:\n\u001b[0;32m   3760\u001b[0m     \u001b[39mreturn\u001b[39;00m \u001b[39mself\u001b[39m\u001b[39m.\u001b[39m_getitem_multilevel(key)\n\u001b[1;32m-> 3761\u001b[0m indexer \u001b[39m=\u001b[39m \u001b[39mself\u001b[39;49m\u001b[39m.\u001b[39;49mcolumns\u001b[39m.\u001b[39;49mget_loc(key)\n\u001b[0;32m   3762\u001b[0m \u001b[39mif\u001b[39;00m is_integer(indexer):\n\u001b[0;32m   3763\u001b[0m     indexer \u001b[39m=\u001b[39m [indexer]\n",
      "File \u001b[1;32m~\\AppData\\Roaming\\Python\\Python310\\site-packages\\pandas\\core\\indexes\\base.py:3655\u001b[0m, in \u001b[0;36mIndex.get_loc\u001b[1;34m(self, key)\u001b[0m\n\u001b[0;32m   3653\u001b[0m     \u001b[39mreturn\u001b[39;00m \u001b[39mself\u001b[39m\u001b[39m.\u001b[39m_engine\u001b[39m.\u001b[39mget_loc(casted_key)\n\u001b[0;32m   3654\u001b[0m \u001b[39mexcept\u001b[39;00m \u001b[39mKeyError\u001b[39;00m \u001b[39mas\u001b[39;00m err:\n\u001b[1;32m-> 3655\u001b[0m     \u001b[39mraise\u001b[39;00m \u001b[39mKeyError\u001b[39;00m(key) \u001b[39mfrom\u001b[39;00m \u001b[39merr\u001b[39;00m\n\u001b[0;32m   3656\u001b[0m \u001b[39mexcept\u001b[39;00m \u001b[39mTypeError\u001b[39;00m:\n\u001b[0;32m   3657\u001b[0m     \u001b[39m# If we have a listlike key, _check_indexing_error will raise\u001b[39;00m\n\u001b[0;32m   3658\u001b[0m     \u001b[39m#  InvalidIndexError. Otherwise we fall through and re-raise\u001b[39;00m\n\u001b[0;32m   3659\u001b[0m     \u001b[39m#  the TypeError.\u001b[39;00m\n\u001b[0;32m   3660\u001b[0m     \u001b[39mself\u001b[39m\u001b[39m.\u001b[39m_check_indexing_error(key)\n",
      "\u001b[1;31mKeyError\u001b[0m: 'Text'"
     ]
    }
   ],
   "source": [
    "df['Text'] = df['Text'].apply(list_to_string)\n",
    "df"
   ]
  },
  {
   "cell_type": "code",
   "execution_count": null,
   "metadata": {},
   "outputs": [
    {
     "data": {
      "text/plain": [
       "<59x9946 sparse matrix of type '<class 'numpy.float64'>'\n",
       "\twith 287 stored elements in Compressed Sparse Row format>"
      ]
     },
     "execution_count": 10,
     "metadata": {},
     "output_type": "execute_result"
    }
   ],
   "source": [
    "import joblib\n",
    "\n",
    "vectorizer = joblib.load('tfidf_vectorizer.joblib')\n",
    "df_text_transformed = vectorizer.transform(df['Text'])\n",
    "df_text_transformed "
   ]
  },
  {
   "cell_type": "code",
   "execution_count": null,
   "metadata": {},
   "outputs": [
    {
     "ename": "NameError",
     "evalue": "name 'df_text_transformed' is not defined",
     "output_type": "error",
     "traceback": [
      "\u001b[1;31m---------------------------------------------------------------------------\u001b[0m",
      "\u001b[1;31mNameError\u001b[0m                                 Traceback (most recent call last)",
      "\u001b[1;32md:\\Crush\\Live-Stock-Sentiment-Analysis\\python_backend\\LivePrediction.ipynb Cell 10\u001b[0m in \u001b[0;36m<cell line: 6>\u001b[1;34m()\u001b[0m\n\u001b[0;32m      <a href='vscode-notebook-cell:/d%3A/Crush/Live-Stock-Sentiment-Analysis/python_backend/LivePrediction.ipynb#X12sZmlsZQ%3D%3D?line=0'>1</a>\u001b[0m \u001b[39mimport\u001b[39;00m \u001b[39mjoblib\u001b[39;00m\n\u001b[0;32m      <a href='vscode-notebook-cell:/d%3A/Crush/Live-Stock-Sentiment-Analysis/python_backend/LivePrediction.ipynb#X12sZmlsZQ%3D%3D?line=2'>3</a>\u001b[0m loaded_model \u001b[39m=\u001b[39m joblib\u001b[39m.\u001b[39mload(\u001b[39m'\u001b[39m\u001b[39mmodel.joblib\u001b[39m\u001b[39m'\u001b[39m)\n\u001b[1;32m----> <a href='vscode-notebook-cell:/d%3A/Crush/Live-Stock-Sentiment-Analysis/python_backend/LivePrediction.ipynb#X12sZmlsZQ%3D%3D?line=5'>6</a>\u001b[0m predictions \u001b[39m=\u001b[39m loaded_model\u001b[39m.\u001b[39mpredict(df_text_transformed)\n\u001b[0;32m      <a href='vscode-notebook-cell:/d%3A/Crush/Live-Stock-Sentiment-Analysis/python_backend/LivePrediction.ipynb#X12sZmlsZQ%3D%3D?line=6'>7</a>\u001b[0m df[\u001b[39m'\u001b[39m\u001b[39mPredictions\u001b[39m\u001b[39m'\u001b[39m] \u001b[39m=\u001b[39m predictions\n\u001b[0;32m      <a href='vscode-notebook-cell:/d%3A/Crush/Live-Stock-Sentiment-Analysis/python_backend/LivePrediction.ipynb#X12sZmlsZQ%3D%3D?line=7'>8</a>\u001b[0m df[\u001b[39m'\u001b[39m\u001b[39mPredictions\u001b[39m\u001b[39m'\u001b[39m] \u001b[39m=\u001b[39m df[\u001b[39m'\u001b[39m\u001b[39mPredictions\u001b[39m\u001b[39m'\u001b[39m]\u001b[39m.\u001b[39mapply(\u001b[39mlambda\u001b[39;00m x: \u001b[39m'\u001b[39m\u001b[39mBuy\u001b[39m\u001b[39m'\u001b[39m \u001b[39mif\u001b[39;00m x \u001b[39m==\u001b[39m \u001b[39m1\u001b[39m \u001b[39melse\u001b[39;00m \u001b[39m'\u001b[39m\u001b[39mSell\u001b[39m\u001b[39m'\u001b[39m)\n",
      "\u001b[1;31mNameError\u001b[0m: name 'df_text_transformed' is not defined"
     ]
    }
   ],
   "source": [
    "import joblib\n",
    "\n",
    "loaded_model = joblib.load('model.joblib')\n",
    "\n",
    "\n",
    "predictions = loaded_model.predict(df_text_transformed)\n",
    "df['Predictions'] = predictions\n",
    "df['Predictions'] = df['Predictions'].apply(lambda x: 'Buy' if x == 1 else 'Sell')\n",
    "df.head(10)"
   ]
  },
  {
   "cell_type": "code",
   "execution_count": null,
   "metadata": {},
   "outputs": [],
   "source": [
    "df.to_csv('output.csv', columns=['Header', 'Predictions'])"
   ]
  },
  {
   "cell_type": "code",
   "execution_count": null,
   "metadata": {},
   "outputs": [],
   "source": []
  }
 ],
 "metadata": {
  "kernelspec": {
   "display_name": "Python 3",
   "language": "python",
   "name": "python3"
  },
  "language_info": {
   "codemirror_mode": {
    "name": "ipython",
    "version": 3
   },
   "file_extension": ".py",
   "mimetype": "text/x-python",
   "name": "python",
   "nbconvert_exporter": "python",
   "pygments_lexer": "ipython3",
   "version": "3.10.6"
  },
  "orig_nbformat": 4
 },
 "nbformat": 4,
 "nbformat_minor": 2
}
